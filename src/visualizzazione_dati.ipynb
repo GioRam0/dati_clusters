{
 "cells": [
  {
   "cell_type": "code",
   "execution_count": null,
   "id": "8c767c54",
   "metadata": {},
   "outputs": [],
   "source": [
    "#importo le librerie\n",
    "import geopandas as gp\n",
    "import numpy as np\n",
    "import pickle\n",
    "import os\n",
    "import matplotlib.pyplot as plt\n",
    "import seaborn as sns\n",
    "import itertools"
   ]
  },
  {
   "cell_type": "code",
   "execution_count": null,
   "id": "b8e5d044",
   "metadata": {},
   "outputs": [],
   "source": [
    "# cartella in cui si trova lo script\n",
    "cartella_corrente = os.path.dirname(os.path.abspath(__file__))\n",
    "cartella_progetto = os.path.join(cartella_corrente, \"..\", \"..\")\n",
    "\n",
    "#importo coordinate isole\n",
    "isl_path=os.path.join(cartella_progetto, \"data/isole_filtrate\", \"isole_filtrate2_arro2.gpkg\")\n",
    "gdf = gp.read_file(isl_path)"
   ]
  },
  {
   "cell_type": "code",
   "execution_count": null,
   "id": "97af3cdb",
   "metadata": {},
   "outputs": [],
   "source": [
    "#importo i vari dizionari pkl contenenti i dati\n",
    "pkl_folder=os.path.join(cartella_progetto, \"data\")\n",
    "\n",
    "pkl_folder1=os.path.join(pkl_folder, \"biomassa\")\n",
    "percorso_pkl=os.path.join(pkl_folder1, \"evi.pkl\")\n",
    "with open(percorso_pkl, 'rb') as file:\n",
    "    evi = pickle.load(file)\n",
    "percorso_pkl=os.path.join(pkl_folder1, \"evi_nodata.pkl\")\n",
    "with open(percorso_pkl, 'rb') as file:\n",
    "    evi_nodata = pickle.load(file)\n",
    "\n",
    "pkl_folder1=os.path.join(pkl_folder, \"eolico\")\n",
    "percorso_pkl=os.path.join(pkl_folder1, \"eolico.pkl\")\n",
    "with open(percorso_pkl, 'rb') as file:\n",
    "    eolico = pickle.load(file)\n",
    "percorso_pkl=os.path.join(pkl_folder1, \"eolico_nodata.pkl\")\n",
    "with open(percorso_pkl, 'rb') as file:\n",
    "    eolico_nodata = pickle.load(file)\n",
    "percorso_pkl=os.path.join(pkl_folder1, \"eolico_std.pkl\")\n",
    "with open(percorso_pkl, 'rb') as file:\n",
    "    eolico_std = pickle.load(file)\n",
    "percorso_pkl=os.path.join(pkl_folder1, \"offshore.pkl\")\n",
    "with open(percorso_pkl, 'rb') as file:\n",
    "    offshore = pickle.load(file)\n",
    "\n",
    "pkl_folder1=os.path.join(pkl_folder, \"gdp_nightlight\")\n",
    "percorso_pkl=os.path.join(pkl_folder1, \"gdp.pkl\")\n",
    "with open(percorso_pkl, 'rb') as file:\n",
    "    gdp = pickle.load(file)\n",
    "percorso_pkl=os.path.join(pkl_folder1, \"gdp_nodata.pkl\")\n",
    "with open(percorso_pkl, 'rb') as file:\n",
    "    gdp_nodata = pickle.load(file)\n",
    "percorso_pkl=os.path.join(pkl_folder1, \"gdp_procapite.pkl\")\n",
    "with open(percorso_pkl, 'rb') as file:\n",
    "    gdp_procapite = pickle.load(file)\n",
    "percorso_pkl=os.path.join(pkl_folder1, \"nightlights.pkl\")\n",
    "with open(percorso_pkl, 'rb') as file:\n",
    "    nightlights = pickle.load(file)\n",
    "percorso_pkl=os.path.join(pkl_folder1, \"nightlights_nodata.pkl\")\n",
    "with open(percorso_pkl, 'rb') as file:\n",
    "    nightlights_nodata = pickle.load(file)\n",
    "percorso_pkl=os.path.join(pkl_folder1, \"nightlights_procapite.pkl\")\n",
    "with open(percorso_pkl, 'rb') as file:\n",
    "    nightlights_procapite = pickle.load(file)\n",
    "\n",
    "pkl_folder1=os.path.join(pkl_folder, \"geotermico\")\n",
    "percorso_pkl=os.path.join(pkl_folder1, \"geothermal_potential.pkl\")\n",
    "with open(percorso_pkl, 'rb') as file:\n",
    "    geothermal_potential = pickle.load(file)\n",
    "\n",
    "pkl_folder1=os.path.join(pkl_folder, \"hydro\")\n",
    "percorso_pkl=os.path.join(pkl_folder1, \"hydro.pkl\")\n",
    "with open(percorso_pkl, 'rb') as file:\n",
    "    hydro = pickle.load(file)\n",
    "\n",
    "pkl_folder1=os.path.join(pkl_folder, \"metereologici\")\n",
    "percorso_pkl=os.path.join(pkl_folder1, \"temp.pkl\")\n",
    "with open(percorso_pkl, 'rb') as file:\n",
    "    temp = pickle.load(file)\n",
    "percorso_pkl=os.path.join(pkl_folder1, \"temp_nodata.pkl\")\n",
    "with open(percorso_pkl, 'rb') as file:\n",
    "    temp_nodata = pickle.load(file)\n",
    "percorso_pkl=os.path.join(pkl_folder1, \"prec.pkl\")\n",
    "with open(percorso_pkl, 'rb') as file:\n",
    "    prec = pickle.load(file)\n",
    "percorso_pkl=os.path.join(pkl_folder1, \"prec_nodata.pkl\")\n",
    "with open(percorso_pkl, 'rb') as file:\n",
    "    prec_nodata = pickle.load(file)\n",
    "percorso_pkl=os.path.join(pkl_folder1, \"hdd.pkl\")\n",
    "with open(percorso_pkl, 'rb') as file:\n",
    "    hdd = pickle.load(file)\n",
    "percorso_pkl=os.path.join(pkl_folder1, \"hdd_nodata.pkl\")\n",
    "with open(percorso_pkl, 'rb') as file:\n",
    "    hdd_nodata = pickle.load(file)\n",
    "percorso_pkl=os.path.join(pkl_folder1, \"cdd.pkl\")\n",
    "with open(percorso_pkl, 'rb') as file:\n",
    "    cdd = pickle.load(file)\n",
    "percorso_pkl=os.path.join(pkl_folder1, \"cdd_nodata.pkl\")\n",
    "with open(percorso_pkl, 'rb') as file:\n",
    "    cdd_nodata = pickle.load(file)\n",
    "\n",
    "pkl_folder1=os.path.join(pkl_folder, \"solare\")\n",
    "percorso_pkl=os.path.join(pkl_folder1, \"solar.pkl\")\n",
    "with open(percorso_pkl, 'rb') as file:\n",
    "    solar = pickle.load(file)\n",
    "percorso_pkl=os.path.join(pkl_folder1, \"solar_var.pkl\")\n",
    "with open(percorso_pkl, 'rb') as file:\n",
    "    solar_var = pickle.load(file)\n",
    "percorso_pkl=os.path.join(pkl_folder1, \"solar_nodata.pkl\")\n",
    "with open(percorso_pkl, 'rb') as file:\n",
    "    solar_nodata = pickle.load(file)\n",
    "\n",
    "pkl_folder1=os.path.join(pkl_folder, \"urban\")\n",
    "percorso_pkl=os.path.join(pkl_folder1, \"urban_area.pkl\")\n",
    "with open(percorso_pkl, 'rb') as file:\n",
    "    urban_area = pickle.load(file)\n",
    "percorso_pkl=os.path.join(pkl_folder1, \"urban_area_rel.pkl\")\n",
    "with open(percorso_pkl, 'rb') as file:\n",
    "    urban_area_rel = pickle.load(file)\n",
    "\n",
    "pkl_folder1=os.path.join(pkl_folder, \"superficie_res\")\n",
    "percorso_pkl=os.path.join(pkl_folder1, \"superficie_res.pkl\")\n",
    "with open(percorso_pkl, 'rb') as file:\n",
    "    superficie_res = pickle.load(file)\n",
    "percorso_pkl=os.path.join(pkl_folder1, \"superficie_nodata.pkl\")\n",
    "with open(percorso_pkl, 'rb') as file:\n",
    "    superficie_nodata = pickle.load(file)\n",
    "percorso_pkl=os.path.join(pkl_folder1, \"ele_max.pkl\")\n",
    "with open(percorso_pkl, 'rb') as file:\n",
    "    ele_max = pickle.load(file)"
   ]
  },
  {
   "cell_type": "code",
   "execution_count": null,
   "id": "cf8ab897",
   "metadata": {},
   "outputs": [],
   "source": [
    "#inizializzo le nuove colonne del dataframe\n",
    "gdf['evi']=0\n",
    "gdf['evi_nodata']=0\n",
    "gdf['eolico']=0\n",
    "gdf['eolico_nodata']=0\n",
    "gdf['eolico_std']=0\n",
    "gdf['offshore']=0\n",
    "gdf['gdp']=0\n",
    "gdf['gdp_nodata']=0\n",
    "gdf['gdp_isola_non_completa']=0\n",
    "gdf['gdp_procapite']=0\n",
    "gdf['nightlights']=0\n",
    "gdf['nightlights_procapite']=0\n",
    "gdf['nightlights_nodata']=0\n",
    "gdf['geothermal_potential']=0\n",
    "gdf['hydro']=0\n",
    "gdf['temp']=0\n",
    "gdf['temp_nodata']=0\n",
    "gdf['prec']=0\n",
    "gdf['prec_nodata']=0\n",
    "gdf['hdd']=0\n",
    "gdf['hdd_nodata']=0\n",
    "gdf['cdd']=0\n",
    "gdf['cdd_nodata']=0\n",
    "gdf['solar']=0\n",
    "gdf['solar_var']=0\n",
    "gdf['solar_nodata']=0\n",
    "gdf['solar_isola_non_completa']=0\n",
    "gdf['urban_area']=0\n",
    "gdf['urban_area_rel']=0\n",
    "gdf['superficie_res']=0\n",
    "gdf['superficie_nodata']=0\n",
    "gdf['ele_max']=0"
   ]
  },
  {
   "cell_type": "code",
   "execution_count": null,
   "id": "18b25507",
   "metadata": {},
   "outputs": [],
   "source": [
    "#riempio le nuove colonne del dataframe\n",
    "for i,isl in gdf.iterrows():\n",
    "    codice=isl.ALL_Uniq\n",
    "    gdf.loc[i,'evi']=evi[codice]\n",
    "    gdf.loc[i,'evi_nodata']=evi_nodata[codice]\n",
    "    gdf.loc[i,'eolico']=eolico[codice]\n",
    "    gdf.loc[i,'eolico_nodata']=eolico_nodata[codice]\n",
    "    gdf.loc[i,'eolico_std']=eolico_std[codice]\n",
    "    gdf.loc[i,'offshore']=offshore[codice]\n",
    "    gdf.loc[i,'gdp']=gdp[codice]\n",
    "    gdf.loc[i,'gdp_procapite']=gdp_procapite[codice]\n",
    "    gdf.loc[i,'gdp_nodata']=gdp_nodata[codice][0]\n",
    "    gdf.loc[i,'gdp_isola_non_completa']=gdp_nodata[codice][1]\n",
    "    gdf.loc[i,'nightlights']=nightlights[codice]\n",
    "    gdf.loc[i,'nightlights_procapite']=nightlights_procapite[codice]\n",
    "    gdf.loc[i,'nightlights_nodata']=nightlights_nodata[codice]\n",
    "    gdf.loc[i,'geothermal_potential']=geothermal_potential[codice]\n",
    "    gdf.loc[i,'hydro']=hydro[codice]\n",
    "    gdf.loc[i,'temp']=temp[codice]\n",
    "    gdf.loc[i,'temp_nodata']=temp[codice]\n",
    "    gdf.loc[i,'prec']=prec[codice]\n",
    "    gdf.loc[i,'prec_nodata']=prec_nodata[codice]\n",
    "    gdf.loc[i,'hdd']=hdd[codice]\n",
    "    gdf.loc[i,'cdd_nodata']=cdd_nodata[codice]\n",
    "    gdf.loc[i,'hdd']=hdd[codice]\n",
    "    gdf.loc[i,'cdd_nodata']=cdd_nodata[codice]\n",
    "    gdf.loc[i,'solar']=solar[codice]\n",
    "    gdf.loc[i,'solar_var']=solar_var[codice]\n",
    "    gdf.loc[i,'solar_nodata']=solar_nodata[codice][0]\n",
    "    gdf.loc[i,'solar_isola_non_completa']=solar_nodata[codice][1]\n",
    "    gdf.loc[i,'urban_area']=urba_area[codice]\n",
    "    gdf.loc[i,'urban_area_rel']=urba_area_rel[codice]\n",
    "    gdf.loc[i,'superficie_res']=superficie_res[codice]\n",
    "    gdf.loc[i,'superficie_nodata']=superficie_nodata[codice]\n",
    "    gdf.loc[i,'ele_max']=ele_max[codice]"
   ]
  },
  {
   "cell_type": "code",
   "execution_count": null,
   "id": "ea830fb4",
   "metadata": {},
   "outputs": [],
   "source": [
    "#funzione per mostrare i risultati\n",
    "def analizza_colonna(nome_colonna, nodata=None, non_completa=None):\n",
    "    print(f\"Analisi della colonna: '{nome_colonna}'\")\n",
    "    if nodata is None:\n",
    "        colonna=gdf[nome_colonna]\n",
    "    else:\n",
    "        numero_nodata=(gdf[nodata]==1).sum()\n",
    "        print(f\"il numero di isole senza dati è {numero_nodata}\")\n",
    "        colonna=gdf[(gdf[nodata]==0)][nome_colonna]\n",
    "    if non_completa is not None:\n",
    "        numero_fuori=(gdf[(gdf[nodata]==0)][non_completa]==1).sum()\n",
    "        print(f\"il numero di isole parzialmente fuori è {numero_fuori}\")\n",
    "    media = colonna.mean()\n",
    "    mediana = colonna.median()\n",
    "    dev_std = colonna.std()\n",
    "    massimo = colonna.max()\n",
    "    minimo = colonna.min()\n",
    "    print(f\"Media: {media:.2f}\")\n",
    "    print(f\"Mediana: {mediana}\")\n",
    "    print(f\"Deviazione Standard: {dev_std:.2f}\")\n",
    "    print(f\"Valore Massimo: {massimo:.2f}\")\n",
    "    print(f\"Valore Minimo: {minimo:.2f}\")\n",
    "    Q1 = colonna.quantile(0.25)\n",
    "    Q3 = colonna.quantile(0.75)\n",
    "    IQR = Q3 - Q1\n",
    "    limite_inferiore_outlier = Q1 - 1.5 * IQR\n",
    "    limite_superiore_outlier = Q3 + 1.5 * IQR\n",
    "    outliers = colonna[(colonna < limite_inferiore_outlier) | (colonna > limite_superiore_outlier)]\n",
    "    if not outliers.empty:\n",
    "        print(\"Outlier identificati:\")\n",
    "        print(outliers)\n",
    "    else:\n",
    "        print(\"Non sono stati trovati outlier significativi.\")\n",
    "    # Visualizzazione della distribuzione tramite istogramma\n",
    "    plt.figure(figsize=(10, 6))\n",
    "    sns.histplot(colonna, kde=True) # kde=True per mostrare la stima della densità del kernel\n",
    "    plt.title(f\"Distribuzione della colonna: '{nome_colonna}'\")\n",
    "    plt.xlabel(f\"Valori di '{nome_colonna}'\")\n",
    "    plt.ylabel(\"Frequenza\")\n",
    "    plt.grid(axis='y', alpha=0.75)\n",
    "    plt.show()\n",
    "    # Visualizzazione con boxplot per evidenziare gli outlier\n",
    "    plt.figure(figsize=(8, 6))\n",
    "    sns.boxplot(x=colonna)\n",
    "    plt.title(f\"Boxplot della colonna: '{nome_colonna}' (Evidenziazione Outlier)\")\n",
    "    plt.xlabel(f\"Valori di '{nome_colonna}'\")\n",
    "    plt.show()\n"
   ]
  },
  {
   "cell_type": "code",
   "execution_count": null,
   "id": "847fdd54",
   "metadata": {},
   "outputs": [],
   "source": [
    "#popolazione\n",
    "analizza_colonna('popolazione')"
   ]
  },
  {
   "cell_type": "code",
   "execution_count": null,
   "id": "1961d235",
   "metadata": {},
   "outputs": [],
   "source": [
    "analizza_colonna('Densità_pop')"
   ]
  },
  {
   "cell_type": "code",
   "execution_count": null,
   "id": "a095864f",
   "metadata": {},
   "outputs": [],
   "source": [
    "#area\n",
    "analizza_colonna('IslandArea')"
   ]
  },
  {
   "cell_type": "code",
   "execution_count": null,
   "id": "1018a459",
   "metadata": {},
   "outputs": [],
   "source": [
    "#solare\n",
    "analizza_colonna('solar', 'solar_nodata', 'solar_isola_non_completa')"
   ]
  },
  {
   "cell_type": "code",
   "execution_count": null,
   "id": "00f3d7af",
   "metadata": {},
   "outputs": [],
   "source": [
    "#eolico\n",
    "analizza_colonna('eolico', 'eolico_nodata')"
   ]
  },
  {
   "cell_type": "code",
   "execution_count": null,
   "id": "dc2461ea",
   "metadata": {},
   "outputs": [],
   "source": [
    "#offshore\n",
    "analizza_colonna('offshore')"
   ]
  },
  {
   "cell_type": "code",
   "execution_count": null,
   "id": "32fbd563",
   "metadata": {},
   "outputs": [],
   "source": [
    "#gdp\n",
    "analizza_colonna('gdp', 'gdp_nodata', 'gdp_isola_non_completa')"
   ]
  },
  {
   "cell_type": "code",
   "execution_count": null,
   "id": "8030a1be",
   "metadata": {},
   "outputs": [],
   "source": [
    "#gdp procapite\n",
    "analizza_colonna('gdp_procapite', 'gdp_nodata', 'gdp_isola_non_completa')"
   ]
  },
  {
   "cell_type": "code",
   "execution_count": null,
   "id": "132ce48d",
   "metadata": {},
   "outputs": [],
   "source": [
    "#nightlights\n",
    "analizza_colonna('nightlights', 'nightlights_nodata')"
   ]
  },
  {
   "cell_type": "code",
   "execution_count": null,
   "id": "b791725c",
   "metadata": {},
   "outputs": [],
   "source": [
    "#nightlights procapite\n",
    "analizza_colonna('nightlights_procapite', 'nightlights_nodata')"
   ]
  },
  {
   "cell_type": "code",
   "execution_count": null,
   "id": "4e836e3c",
   "metadata": {},
   "outputs": [],
   "source": [
    "#temperatura\n",
    "analizza_colonna('temp', 'temp_nodata')"
   ]
  },
  {
   "cell_type": "code",
   "execution_count": null,
   "id": "c039f39a",
   "metadata": {},
   "outputs": [],
   "source": [
    "#precipitazioni\n",
    "analizza_colonna('prec', 'prec_nodata')"
   ]
  },
  {
   "cell_type": "code",
   "execution_count": null,
   "id": "e8d245d6",
   "metadata": {},
   "outputs": [],
   "source": [
    "#heating days\n",
    "analizza_colonna('hdd', 'hdd_nodata')"
   ]
  },
  {
   "cell_type": "code",
   "execution_count": null,
   "id": "4c8ce201",
   "metadata": {},
   "outputs": [],
   "source": [
    "#cooling days\n",
    "analizza_colonna('cdd', 'cdd_nodata')"
   ]
  },
  {
   "cell_type": "code",
   "execution_count": null,
   "id": "d06f3c18",
   "metadata": {},
   "outputs": [],
   "source": [
    "#elevazione massima\n",
    "analizza_colonna('ele_max')"
   ]
  },
  {
   "cell_type": "code",
   "execution_count": null,
   "id": "0ca6074d",
   "metadata": {},
   "outputs": [],
   "source": [
    "#evi\n",
    "analizza_colonna('evi', 'evi_nodata')"
   ]
  },
  {
   "cell_type": "code",
   "execution_count": null,
   "id": "526688e1",
   "metadata": {},
   "outputs": [],
   "source": [
    "#idroelettrico\n",
    "analizza_colonna('hydro')"
   ]
  },
  {
   "cell_type": "code",
   "execution_count": null,
   "id": "d68e3411",
   "metadata": {},
   "outputs": [],
   "source": [
    "#geotermico\n",
    "analizza_colonna('geothermal_potential')\n"
   ]
  },
  {
   "cell_type": "code",
   "execution_count": null,
   "id": "33415f48",
   "metadata": {},
   "outputs": [],
   "source": [
    "#superficie res\n",
    "analizza_colonna('superficie_res', 'superficie_nodata')"
   ]
  },
  {
   "cell_type": "code",
   "execution_count": null,
   "id": "b452f65d",
   "metadata": {},
   "outputs": [],
   "source": [
    "#urban area\n",
    "analizza_colonna('urban_area')"
   ]
  },
  {
   "cell_type": "code",
   "execution_count": null,
   "id": "a03c8508",
   "metadata": {},
   "outputs": [],
   "source": [
    "#urban area relativa\n",
    "analizza_colonna('urban_area_rel')"
   ]
  },
  {
   "cell_type": "code",
   "execution_count": null,
   "id": "2e34874d",
   "metadata": {},
   "outputs": [],
   "source": [
    "#seleziono solo le isole con tutti i dati\n",
    "gdf=gdf[(gdf['solar_nodata']==1) & (gdf['eolico_nodata']==1) & (gdf['gdp_nodata']==1) & (gdf['nightlights_nodata']==1) & (gdf['temp_nodata']==1) & (gdf['prec_nodata']==1) & (gdf['hdd_nodata']==1) & (gdf['cdd_nodata']==1) & (gdf['evi_nodata']==1) & (gdf['superficie_nodata']==1)]\n",
    "print(f'Il numero di isole con tutti i dati è: {len(gdf)}')"
   ]
  },
  {
   "cell_type": "code",
   "execution_count": null,
   "id": "a5a25257",
   "metadata": {},
   "outputs": [],
   "source": [
    "#rappresento i grafici a dispersione\n",
    "colonne = ['popolazione', 'Densità_pop', 'IslandArea', 'solar', 'eolico', 'offshore', 'gdp', 'gdp_procapite', 'nightlights', 'nightlights_procapite', 'temp', 'prec', 'hdd', 'cdd', 'ele_max', 'evi', 'hydro', 'geothermal_potential', 'superficie_res', 'urban_area', 'urban_area_rel']\n",
    "num_col = len(colonne)\n",
    "coppie=list(itertools.combinations(numeric_cols, 2))\n",
    "num_coppie = len(coppie)\n",
    "#layout dei subplot\n",
    "rows = int(n_pairs**0.5) + (1 if n_pairs % int(n_pairs**0.5) != 0 else 0)\n",
    "cols = int(n_pairs**0.5) + (1 if n_pairs % int(n_pairs**0.5) != 0 else 0)\n",
    "if rows * cols < n_pairs:\n",
    "    cols += 1\n",
    "fig, axes = plt.subplots(rows, cols, figsize=(5 * cols, 5 * rows))\n",
    "axes = axes.flatten()\n",
    "for i, (col1, col2) in enumerate(coppie):\n",
    "    ax = axes[i]\n",
    "    ax.scatter(gdf[col1], gdf[col2])\n",
    "    ax.set_xlabel(col1)\n",
    "    ax.set_ylabel(col2)\n",
    "    ax.set_title(f'{col1} vs {col2}')\n",
    "    ax.grid(True, alpha=0.5)\n",
    "    #correlazione tra le due grandezze\n",
    "    correlation = gdf[col1].corr(gdf[col2])\n",
    "    #testo correlazione\n",
    "    ax.text(0.05, -0.2, f'Corr: {correlation:.2f}', transform=ax.transAxes)\n",
    "\n",
    "#nascondo gli assi inutilizzati\n",
    "for j in range(num_coppie, rows * cols):\n",
    "    fig.delaxes(axes[j])\n",
    "plt.tight_layout() #spaziatura\n",
    "plt.show()"
   ]
  }
 ],
 "metadata": {
  "language_info": {
   "name": "python"
  }
 },
 "nbformat": 4,
 "nbformat_minor": 5
}
